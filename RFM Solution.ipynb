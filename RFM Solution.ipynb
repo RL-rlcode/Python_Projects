{
 "cells": [
  {
   "cell_type": "markdown",
   "id": "4bc35312",
   "metadata": {},
   "source": [
    "# CUSTOMER SEGMENTATION USING RFM SCORE ANALYSIS"
   ]
  },
  {
   "cell_type": "markdown",
   "id": "78128455",
   "metadata": {},
   "source": [
    "STEP 1 - IMPORT THE LIBRARIES"
   ]
  },
  {
   "cell_type": "code",
   "execution_count": 117,
   "id": "f81e292a",
   "metadata": {},
   "outputs": [],
   "source": [
    "import numpy as np\n",
    "import pandas as pd\n",
    "import matplotlib.pyplot as plt\n",
    "%matplotlib inline\n",
    "import seaborn as sns\n",
    "from datetime import date as dt"
   ]
  },
  {
   "cell_type": "markdown",
   "id": "97d6a1eb",
   "metadata": {},
   "source": [
    "STEP 2 - LOAD AND READ THE DATASET"
   ]
  },
  {
   "cell_type": "code",
   "execution_count": 118,
   "id": "a41ab4f3",
   "metadata": {},
   "outputs": [],
   "source": [
    "customer_data = pd.read_csv(\"/Users/rajalakshmishanmuganathan/Downloads/customer_segmentation 2.csv\")"
   ]
  },
  {
   "cell_type": "code",
   "execution_count": 119,
   "id": "878f816d",
   "metadata": {},
   "outputs": [
    {
     "data": {
      "text/html": [
       "<div>\n",
       "<style scoped>\n",
       "    .dataframe tbody tr th:only-of-type {\n",
       "        vertical-align: middle;\n",
       "    }\n",
       "\n",
       "    .dataframe tbody tr th {\n",
       "        vertical-align: top;\n",
       "    }\n",
       "\n",
       "    .dataframe thead th {\n",
       "        text-align: right;\n",
       "    }\n",
       "</style>\n",
       "<table border=\"1\" class=\"dataframe\">\n",
       "  <thead>\n",
       "    <tr style=\"text-align: right;\">\n",
       "      <th></th>\n",
       "      <th>index</th>\n",
       "      <th>InvoiceNo</th>\n",
       "      <th>StockCode</th>\n",
       "      <th>Description</th>\n",
       "      <th>Quantity</th>\n",
       "      <th>InvoiceDate</th>\n",
       "      <th>UnitPrice</th>\n",
       "      <th>CustomerID</th>\n",
       "      <th>Country</th>\n",
       "    </tr>\n",
       "  </thead>\n",
       "  <tbody>\n",
       "    <tr>\n",
       "      <th>114452</th>\n",
       "      <td>114452</td>\n",
       "      <td>546013</td>\n",
       "      <td>21989</td>\n",
       "      <td>PACK OF 20 SKULL PAPER NAPKINS</td>\n",
       "      <td>1</td>\n",
       "      <td>3/8/2011 16:38</td>\n",
       "      <td>0.85</td>\n",
       "      <td>16495.0</td>\n",
       "      <td>United Kingdom</td>\n",
       "    </tr>\n",
       "    <tr>\n",
       "      <th>5130</th>\n",
       "      <td>5130</td>\n",
       "      <td>536845</td>\n",
       "      <td>21114</td>\n",
       "      <td>LAVENDER SCENTED FABRIC HEART</td>\n",
       "      <td>1</td>\n",
       "      <td>12/2/2010 19:18</td>\n",
       "      <td>1.25</td>\n",
       "      <td>17961.0</td>\n",
       "      <td>United Kingdom</td>\n",
       "    </tr>\n",
       "    <tr>\n",
       "      <th>147111</th>\n",
       "      <td>147111</td>\n",
       "      <td>549054</td>\n",
       "      <td>22191</td>\n",
       "      <td>IVORY DINER WALL CLOCK</td>\n",
       "      <td>4</td>\n",
       "      <td>4/6/2011 10:21</td>\n",
       "      <td>8.50</td>\n",
       "      <td>17719.0</td>\n",
       "      <td>United Kingdom</td>\n",
       "    </tr>\n",
       "  </tbody>\n",
       "</table>\n",
       "</div>"
      ],
      "text/plain": [
       "         index InvoiceNo StockCode                     Description  Quantity  \\\n",
       "114452  114452    546013     21989  PACK OF 20 SKULL PAPER NAPKINS         1   \n",
       "5130      5130    536845     21114   LAVENDER SCENTED FABRIC HEART         1   \n",
       "147111  147111    549054     22191          IVORY DINER WALL CLOCK         4   \n",
       "\n",
       "            InvoiceDate  UnitPrice  CustomerID         Country  \n",
       "114452   3/8/2011 16:38       0.85     16495.0  United Kingdom  \n",
       "5130    12/2/2010 19:18       1.25     17961.0  United Kingdom  \n",
       "147111   4/6/2011 10:21       8.50     17719.0  United Kingdom  "
      ]
     },
     "execution_count": 119,
     "metadata": {},
     "output_type": "execute_result"
    }
   ],
   "source": [
    "customer_data.sample(3)"
   ]
  },
  {
   "cell_type": "markdown",
   "id": "612d156b",
   "metadata": {},
   "source": [
    "CLEANING THE DATASET"
   ]
  },
  {
   "cell_type": "code",
   "execution_count": 120,
   "id": "3e17543d",
   "metadata": {},
   "outputs": [
    {
     "data": {
      "text/plain": [
       "index               0\n",
       "InvoiceNo           0\n",
       "StockCode           0\n",
       "Description      1454\n",
       "Quantity            0\n",
       "InvoiceDate         0\n",
       "UnitPrice           0\n",
       "CustomerID     135080\n",
       "Country             0\n",
       "dtype: int64"
      ]
     },
     "execution_count": 120,
     "metadata": {},
     "output_type": "execute_result"
    }
   ],
   "source": [
    "customer_data.isna().sum()"
   ]
  },
  {
   "cell_type": "code",
   "execution_count": 121,
   "id": "57a623ea",
   "metadata": {},
   "outputs": [
    {
     "name": "stdout",
     "output_type": "stream",
     "text": [
      "There are 541909 rows and 9 columns in the dataset(before cleaning!)\n"
     ]
    }
   ],
   "source": [
    "# checking the shape\n",
    "row , col = customer_data.shape\n",
    "print(f'There are {row} rows and {col} columns in the dataset(before cleaning!)')"
   ]
  },
  {
   "cell_type": "code",
   "execution_count": 122,
   "id": "e8dd63bf",
   "metadata": {},
   "outputs": [
    {
     "name": "stdout",
     "output_type": "stream",
     "text": [
      "The percentage of missingness in the dataset is: 2.7994450072695685\n"
     ]
    }
   ],
   "source": [
    "# checking the missing percentage\n",
    "total_cells = row * col\n",
    "missing_cells = customer_data.isna().sum()\n",
    "total_missing = missing_cells.sum()\n",
    "missing_percent = (total_missing / total_cells) * 100\n",
    "print(f'The percentage of missingness in the dataset is: {missing_percent}')"
   ]
  },
  {
   "cell_type": "code",
   "execution_count": 123,
   "id": "4cd52ac5",
   "metadata": {},
   "outputs": [
    {
     "name": "stdout",
     "output_type": "stream",
     "text": [
      "For the rows with exactly 1 missing values, NaN values are found in:\n",
      "CustomerID    133626\n",
      "dtype: int64\n",
      "\n",
      "\n",
      "\n",
      "For the rows with exactly 2 missing values, NaN values are found in:\n",
      "Description    1454\n",
      "CustomerID     1454\n",
      "dtype: int64\n",
      "\n",
      "\n",
      "\n"
     ]
    }
   ],
   "source": [
    "# finding the pattern of missingness\n",
    "missing_values = customer_data.isnull().sum(axis=1)\n",
    "for n in missing_values.value_counts().sort_index().index:\n",
    "    if n > 0:\n",
    "        print(f\"For the rows with exactly {n} missing values, NaN values are found in:\")\n",
    "        n_miss_per_col = customer_data[missing_values == n].isnull().sum()\n",
    "        print(n_miss_per_col[n_miss_per_col > 0])\n",
    "        print('\\n\\n')"
   ]
  },
  {
   "cell_type": "code",
   "execution_count": 124,
   "id": "725c090b",
   "metadata": {},
   "outputs": [],
   "source": [
    "# removing the values\n",
    "customer_data.dropna(axis = 0, inplace = True)"
   ]
  },
  {
   "cell_type": "code",
   "execution_count": 125,
   "id": "8642c145",
   "metadata": {},
   "outputs": [
    {
     "name": "stdout",
     "output_type": "stream",
     "text": [
      "There are 406829 rows and 9 columns in the dataset(after cleaning!)\n"
     ]
    }
   ],
   "source": [
    "row1, col1 = customer_data.shape\n",
    "print(f'There are {row1} rows and {col1} columns in the dataset(after cleaning!)')"
   ]
  },
  {
   "cell_type": "markdown",
   "id": "e7b28034",
   "metadata": {},
   "source": [
    "FORMATTING THE DATASET"
   ]
  },
  {
   "cell_type": "code",
   "execution_count": 126,
   "id": "80486f47",
   "metadata": {},
   "outputs": [
    {
     "data": {
      "text/plain": [
       "Index(['index', 'InvoiceNo', 'StockCode', 'Description', 'Quantity',\n",
       "       'InvoiceDate', 'UnitPrice', 'CustomerID', 'Country'],\n",
       "      dtype='object')"
      ]
     },
     "execution_count": 126,
     "metadata": {},
     "output_type": "execute_result"
    }
   ],
   "source": [
    "customer_data.columns"
   ]
  },
  {
   "cell_type": "code",
   "execution_count": 127,
   "id": "21968d59",
   "metadata": {},
   "outputs": [
    {
     "data": {
      "text/plain": [
       "index            int64\n",
       "InvoiceNo       object\n",
       "StockCode       object\n",
       "Description     object\n",
       "Quantity         int64\n",
       "InvoiceDate     object\n",
       "UnitPrice      float64\n",
       "CustomerID     float64\n",
       "Country         object\n",
       "dtype: object"
      ]
     },
     "execution_count": 127,
     "metadata": {},
     "output_type": "execute_result"
    }
   ],
   "source": [
    "customer_data.dtypes"
   ]
  },
  {
   "cell_type": "code",
   "execution_count": 128,
   "id": "99738378",
   "metadata": {},
   "outputs": [],
   "source": [
    "#changing the datatypes\n",
    "cols_to_change = ['InvoiceNo', 'StockCode', 'Description', 'Country']\n",
    "for cols in cols_to_change:\n",
    "    customer_data [cols] = customer_data[cols].astype(\"string\")\n",
    "customer_data['InvoiceDate'] = pd.to_datetime(customer_data['InvoiceDate'])"
   ]
  },
  {
   "cell_type": "markdown",
   "id": "a72efe8b",
   "metadata": {},
   "source": [
    "CREATING A NEW COLUMN 'TOTAL AMOUNT'"
   ]
  },
  {
   "cell_type": "code",
   "execution_count": 129,
   "id": "920f7865",
   "metadata": {},
   "outputs": [],
   "source": [
    "customer_data['TotalAmount'] = customer_data['Quantity'] * customer_data['UnitPrice']"
   ]
  },
  {
   "cell_type": "markdown",
   "id": "9e7a77cb",
   "metadata": {},
   "source": [
    "FINDING THE LATEST DATE OF TRANSACTION"
   ]
  },
  {
   "cell_type": "code",
   "execution_count": 130,
   "id": "14785c86",
   "metadata": {},
   "outputs": [
    {
     "name": "stdout",
     "output_type": "stream",
     "text": [
      "The latest date: 2011-12-09 12:50:00\n"
     ]
    }
   ],
   "source": [
    "latest_date = customer_data['InvoiceDate'].max()\n",
    "print(f'The latest date: {latest_date}')"
   ]
  },
  {
   "cell_type": "markdown",
   "id": "dd04c5d7",
   "metadata": {},
   "source": [
    "ENTERING THE DATE FOR FINDING RFM"
   ]
  },
  {
   "cell_type": "code",
   "execution_count": 131,
   "id": "a185426f",
   "metadata": {},
   "outputs": [],
   "source": [
    "today = pd.Timestamp('2012-01-01')"
   ]
  },
  {
   "cell_type": "markdown",
   "id": "fdc7a6b6",
   "metadata": {},
   "source": [
    "RFM CALCULATION"
   ]
  },
  {
   "cell_type": "code",
   "execution_count": 132,
   "id": "fd3eba64",
   "metadata": {},
   "outputs": [],
   "source": [
    "rfm_table = customer_data.groupby('CustomerID').agg({\n",
    "    'InvoiceDate':lambda x: (today - x.max()).days, #recency\n",
    "    'TotalAmount':'sum', #monetary\n",
    "    'CustomerID':'count' #frequency\n",
    "}).rename(columns = {'InvoiceDate':'Recency', 'TotalAmount':'Monetary', 'CustomerID':'Frequency'})"
   ]
  },
  {
   "cell_type": "code",
   "execution_count": 133,
   "id": "c9598f01",
   "metadata": {},
   "outputs": [
    {
     "name": "stdout",
     "output_type": "stream",
     "text": [
      "      CustomerID  Recency  Monetary  Frequency\n",
      "0        12346.0      347      0.00          2\n",
      "1        12347.0       24   4310.00        182\n",
      "2        12348.0       97   1797.24         31\n",
      "3        12349.0       40   1757.55         73\n",
      "4        12350.0      332    334.40         17\n",
      "...          ...      ...       ...        ...\n",
      "4367     18280.0      299    180.60         10\n",
      "4368     18281.0      202     80.82          7\n",
      "4369     18282.0       29    176.60         13\n",
      "4370     18283.0       25   2094.88        756\n",
      "4371     18287.0       64   1837.28         70\n",
      "\n",
      "[4372 rows x 4 columns]\n"
     ]
    }
   ],
   "source": [
    "rfm_table.reset_index(inplace=True)\n",
    "print(rfm_table)"
   ]
  },
  {
   "cell_type": "code",
   "execution_count": 134,
   "id": "dd9581e3",
   "metadata": {},
   "outputs": [],
   "source": [
    "rfm_table['R Score'] = pd.qcut(rfm_table['Recency'], 4, labels =[1, 2, 3, 4]).astype(pd.Int64Dtype()).fillna(0).astype(int)\n",
    "rfm_table['F Score'] = pd.qcut(rfm_table['Frequency'].rank(method = \"first\"), 4, labels = [1, 2, 3, 4]).astype(pd.Int64Dtype()).fillna(0).astype(int)\n",
    "rfm_table['M Score'] = pd.qcut(rfm_table['Monetary'], 4, labels = [1, 2, 3, 4]).astype(pd.Int64Dtype()).fillna(0).astype(int)"
   ]
  },
  {
   "cell_type": "code",
   "execution_count": 135,
   "id": "1d158219",
   "metadata": {},
   "outputs": [
    {
     "name": "stdout",
     "output_type": "stream",
     "text": [
      "      CustomerID  Recency  Monetary  Frequency  R Score  F Score  M Score\n",
      "0        12346.0      347      0.00          2        4        1        1\n",
      "1        12347.0       24   4310.00        182        1        4        4\n",
      "2        12348.0       97   1797.24         31        3        2        4\n",
      "3        12349.0       40   1757.55         73        2        3        4\n",
      "4        12350.0      332    334.40         17        4        1        2\n",
      "...          ...      ...       ...        ...      ...      ...      ...\n",
      "4367     18280.0      299    180.60         10        4        1        1\n",
      "4368     18281.0      202     80.82          7        4        1        1\n",
      "4369     18282.0       29    176.60         13        1        1        1\n",
      "4370     18283.0       25   2094.88        756        1        4        4\n",
      "4371     18287.0       64   1837.28         70        2        3        4\n",
      "\n",
      "[4372 rows x 7 columns]\n"
     ]
    }
   ],
   "source": [
    "print(rfm_table)"
   ]
  },
  {
   "cell_type": "code",
   "execution_count": 136,
   "id": "7cf17dbc",
   "metadata": {},
   "outputs": [
    {
     "name": "stdout",
     "output_type": "stream",
     "text": [
      "      CustomerID  Recency  Monetary  Frequency  R Score  F Score  M Score  \\\n",
      "0        12346.0      347      0.00          2        4        1        1   \n",
      "1        12347.0       24   4310.00        182        1        4        4   \n",
      "2        12348.0       97   1797.24         31        3        2        4   \n",
      "3        12349.0       40   1757.55         73        2        3        4   \n",
      "4        12350.0      332    334.40         17        4        1        2   \n",
      "...          ...      ...       ...        ...      ...      ...      ...   \n",
      "4367     18280.0      299    180.60         10        4        1        1   \n",
      "4368     18281.0      202     80.82          7        4        1        1   \n",
      "4369     18282.0       29    176.60         13        1        1        1   \n",
      "4370     18283.0       25   2094.88        756        1        4        4   \n",
      "4371     18287.0       64   1837.28         70        2        3        4   \n",
      "\n",
      "     RFM Seg  RFM Score  \n",
      "0        411          6  \n",
      "1        144          9  \n",
      "2        324          9  \n",
      "3        234          9  \n",
      "4        412          7  \n",
      "...      ...        ...  \n",
      "4367     411          6  \n",
      "4368     411          6  \n",
      "4369     111          3  \n",
      "4370     144          9  \n",
      "4371     234          9  \n",
      "\n",
      "[4372 rows x 9 columns]\n"
     ]
    }
   ],
   "source": [
    "rfm_table['RFM Seg'] = rfm_table['R Score'].astype('string') + rfm_table['F Score'].astype('string') + rfm_table['M Score'].astype('string')\n",
    "rfm_table['RFM Score'] = rfm_table[['R Score', 'F Score', 'M Score']].sum(axis = 1)\n",
    "print(rfm_table)"
   ]
  },
  {
   "cell_type": "markdown",
   "id": "7a33f8d4",
   "metadata": {},
   "source": [
    "RFM SEGMENTATION"
   ]
  },
  {
   "cell_type": "code",
   "execution_count": 137,
   "id": "b3b3f8ce",
   "metadata": {},
   "outputs": [],
   "source": [
    "def segmentation(row):\n",
    "    if row['RFM Score'] >=9:\n",
    "        return 'Best Customers'\n",
    "    elif row['RFM Score'] >=6:\n",
    "        return 'Loyalists'\n",
    "    elif row['RFM Score'] >=3:\n",
    "        return 'Potential Customers'\n",
    "    else:\n",
    "        return 'At Risk Of Losing'\n",
    "rfm_table['Customer_Segments'] = rfm_table.apply(segmentation,axis=1)        "
   ]
  },
  {
   "cell_type": "code",
   "execution_count": 138,
   "id": "de5d4102",
   "metadata": {},
   "outputs": [
    {
     "name": "stdout",
     "output_type": "stream",
     "text": [
      "      CustomerID  Recency  Monetary  Frequency  R Score  F Score  M Score  \\\n",
      "0        12346.0      347      0.00          2        4        1        1   \n",
      "1        12347.0       24   4310.00        182        1        4        4   \n",
      "2        12348.0       97   1797.24         31        3        2        4   \n",
      "3        12349.0       40   1757.55         73        2        3        4   \n",
      "4        12350.0      332    334.40         17        4        1        2   \n",
      "...          ...      ...       ...        ...      ...      ...      ...   \n",
      "4367     18280.0      299    180.60         10        4        1        1   \n",
      "4368     18281.0      202     80.82          7        4        1        1   \n",
      "4369     18282.0       29    176.60         13        1        1        1   \n",
      "4370     18283.0       25   2094.88        756        1        4        4   \n",
      "4371     18287.0       64   1837.28         70        2        3        4   \n",
      "\n",
      "     RFM Seg  RFM Score    Customer_Segments  \n",
      "0        411          6            Loyalists  \n",
      "1        144          9       Best Customers  \n",
      "2        324          9       Best Customers  \n",
      "3        234          9       Best Customers  \n",
      "4        412          7            Loyalists  \n",
      "...      ...        ...                  ...  \n",
      "4367     411          6            Loyalists  \n",
      "4368     411          6            Loyalists  \n",
      "4369     111          3  Potential Customers  \n",
      "4370     144          9       Best Customers  \n",
      "4371     234          9       Best Customers  \n",
      "\n",
      "[4372 rows x 10 columns]\n"
     ]
    }
   ],
   "source": [
    "print(rfm_table)"
   ]
  },
  {
   "cell_type": "code",
   "execution_count": 139,
   "id": "f596ba82",
   "metadata": {},
   "outputs": [
    {
     "data": {
      "text/plain": [
       "Customer_Segments\n",
       "Loyalists              2313\n",
       "Best Customers         1451\n",
       "Potential Customers     608\n",
       "Name: count, dtype: int64"
      ]
     },
     "execution_count": 139,
     "metadata": {},
     "output_type": "execute_result"
    }
   ],
   "source": [
    "rfm_table['Customer_Segments'].value_counts()"
   ]
  },
  {
   "cell_type": "code",
   "execution_count": 140,
   "id": "fdfe6a9a",
   "metadata": {},
   "outputs": [
    {
     "name": "stdout",
     "output_type": "stream",
     "text": [
      "      CustomerID  Recency  Frequency  Monetary\n",
      "0        12346.0    347.0        2.0      0.00\n",
      "1        12347.0     24.0      182.0   4310.00\n",
      "2        12348.0     97.0       31.0   1797.24\n",
      "3        12349.0     40.0       73.0   1757.55\n",
      "4        12350.0    332.0       17.0    334.40\n",
      "...          ...      ...        ...       ...\n",
      "4367     18280.0    299.0       10.0    180.60\n",
      "4368     18281.0    202.0        7.0     80.82\n",
      "4369     18282.0     29.0       13.0    176.60\n",
      "4370     18283.0     25.0      756.0   2094.88\n",
      "4371     18287.0     64.0       70.0   1837.28\n",
      "\n",
      "[4372 rows x 4 columns]\n"
     ]
    }
   ],
   "source": [
    "segment_summary = rfm_table.groupby('CustomerID').agg({\n",
    "    'Recency':'mean',\n",
    "    'Frequency':'mean',\n",
    "    'Monetary':'mean'\n",
    "}).reset_index()\n",
    "print(segment_summary)"
   ]
  },
  {
   "cell_type": "markdown",
   "id": "2e46081c",
   "metadata": {},
   "source": [
    "PLOTTING AND VISUALISATION"
   ]
  },
  {
   "cell_type": "code",
   "execution_count": 141,
   "id": "d147998c",
   "metadata": {},
   "outputs": [
    {
     "data": {
      "image/png": "[encoded data removed]",
      "text/plain": [
       "<Figure size 640x480 with 1 Axes>"
      ]
     },
     "metadata": {},
     "output_type": "display_data"
    }
   ],
   "source": [
    "sns.countplot(data=rfm_table, x= 'Customer_Segments', order= rfm_table['Customer_Segments'].value_counts().index)\n",
    "plt.title('Customer Segmentation by counts')\n",
    "plt.show()"
   ]
  },
  {
   "cell_type": "code",
   "execution_count": 142,
   "id": "11dfdb09",
   "metadata": {},
   "outputs": [
    {
     "data": {
      "image/png": "[encoded data removed]",
      "text/plain": [
       "<Figure size 640x480 with 1 Axes>"
      ]
     },
     "metadata": {},
     "output_type": "display_data"
    }
   ],
   "source": [
    "sns.boxplot(data = rfm_table, x = rfm_table['Customer_Segments'], y = rfm_table['Monetary'])\n",
    "plt.title('Monetary distribution by customer segments')\n",
    "plt.show()"
   ]
  },
  {
   "cell_type": "code",
   "execution_count": 143,
   "id": "7d2125b4",
   "metadata": {},
   "outputs": [],
   "source": [
    "rfm_table.to_excel('RFM Analysis.xlsx')"
   ]
  },
  {
   "cell_type": "code",
   "execution_count": 144,
   "id": "2592f452",
   "metadata": {},
   "outputs": [],
   "source": [
    "customer_data.to_excel('RFMO.xlsx')"
   ]
  },
  {
   "cell_type": "code",
   "execution_count": null,
   "id": "23796fff",
   "metadata": {},
   "outputs": [],
   "source": []
  }
 ],
 "metadata": {
  "kernelspec": {
   "display_name": "Python 3 (ipykernel)",
   "language": "python",
   "name": "python3"
  },
  "language_info": {
   "codemirror_mode": {
    "name": "ipython",
    "version": 3
   },
   "file_extension": ".py",
   "mimetype": "text/x-python",
   "name": "python",
   "nbconvert_exporter": "python",
   "pygments_lexer": "ipython3",
   "version": "3.11.7"
  }
 },
 "nbformat": 4,
 "nbformat_minor": 5
}
