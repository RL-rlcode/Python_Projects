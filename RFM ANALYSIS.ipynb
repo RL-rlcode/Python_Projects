{
 "cells": [
  {
   "cell_type": "markdown",
   "id": "3ede5a1f",
   "metadata": {},
   "source": [
    "# CUSTOMER SEGMENTATION USING RFM ANALYSIS"
   ]
  },
  {
   "cell_type": "markdown",
   "id": "e4f73a5a",
   "metadata": {},
   "source": [
    "IMPORTING THE LIBRARIES"
   ]
  },
  {
   "cell_type": "code",
   "execution_count": 1,
   "id": "bc271822",
   "metadata": {},
   "outputs": [],
   "source": [
    "import numpy as np\n",
    "import pandas as pd\n",
    "import matplotlib.pyplot as plt\n",
    "%matplotlib inline\n",
    "import seaborn as sns"
   ]
  },
  {
   "cell_type": "markdown",
   "id": "7d02c437",
   "metadata": {},
   "source": [
    "READING AND LOADING THE DATASET"
   ]
  },
  {
   "cell_type": "code",
   "execution_count": 2,
   "id": "86305056",
   "metadata": {},
   "outputs": [],
   "source": [
    "cust_data = pd.read_csv(\"/Users/rajalakshmishanmuganathan/Downloads/customer_segmentation 2.csv\")"
   ]
  },
  {
   "cell_type": "code",
   "execution_count": 3,
   "id": "6dc03d0d",
   "metadata": {},
   "outputs": [
    {
     "data": {
      "text/html": [
       "<div>\n",
       "<style scoped>\n",
       "    .dataframe tbody tr th:only-of-type {\n",
       "        vertical-align: middle;\n",
       "    }\n",
       "\n",
       "    .dataframe tbody tr th {\n",
       "        vertical-align: top;\n",
       "    }\n",
       "\n",
       "    .dataframe thead th {\n",
       "        text-align: right;\n",
       "    }\n",
       "</style>\n",
       "<table border=\"1\" class=\"dataframe\">\n",
       "  <thead>\n",
       "    <tr style=\"text-align: right;\">\n",
       "      <th></th>\n",
       "      <th>index</th>\n",
       "      <th>InvoiceNo</th>\n",
       "      <th>StockCode</th>\n",
       "      <th>Description</th>\n",
       "      <th>Quantity</th>\n",
       "      <th>InvoiceDate</th>\n",
       "      <th>UnitPrice</th>\n",
       "      <th>CustomerID</th>\n",
       "      <th>Country</th>\n",
       "    </tr>\n",
       "  </thead>\n",
       "  <tbody>\n",
       "    <tr>\n",
       "      <th>204524</th>\n",
       "      <td>204524</td>\n",
       "      <td>554669</td>\n",
       "      <td>23233</td>\n",
       "      <td>WRAP POPPIES  DESIGN</td>\n",
       "      <td>25</td>\n",
       "      <td>5/25/2011 15:31</td>\n",
       "      <td>0.42</td>\n",
       "      <td>15203.0</td>\n",
       "      <td>United Kingdom</td>\n",
       "    </tr>\n",
       "    <tr>\n",
       "      <th>498623</th>\n",
       "      <td>498623</td>\n",
       "      <td>578531</td>\n",
       "      <td>21506</td>\n",
       "      <td>FANCY FONT BIRTHDAY CARD,</td>\n",
       "      <td>12</td>\n",
       "      <td>11/24/2011 14:40</td>\n",
       "      <td>0.42</td>\n",
       "      <td>17364.0</td>\n",
       "      <td>United Kingdom</td>\n",
       "    </tr>\n",
       "    <tr>\n",
       "      <th>56366</th>\n",
       "      <td>56366</td>\n",
       "      <td>541104</td>\n",
       "      <td>85039A</td>\n",
       "      <td>SET/4 RED MINI ROSE CANDLE IN BOWL</td>\n",
       "      <td>8</td>\n",
       "      <td>1/13/2011 14:29</td>\n",
       "      <td>1.63</td>\n",
       "      <td>NaN</td>\n",
       "      <td>United Kingdom</td>\n",
       "    </tr>\n",
       "  </tbody>\n",
       "</table>\n",
       "</div>"
      ],
      "text/plain": [
       "         index InvoiceNo StockCode                         Description  \\\n",
       "204524  204524    554669     23233                WRAP POPPIES  DESIGN   \n",
       "498623  498623    578531     21506          FANCY FONT BIRTHDAY CARD,    \n",
       "56366    56366    541104    85039A  SET/4 RED MINI ROSE CANDLE IN BOWL   \n",
       "\n",
       "        Quantity       InvoiceDate  UnitPrice  CustomerID         Country  \n",
       "204524        25   5/25/2011 15:31       0.42     15203.0  United Kingdom  \n",
       "498623        12  11/24/2011 14:40       0.42     17364.0  United Kingdom  \n",
       "56366          8   1/13/2011 14:29       1.63         NaN  United Kingdom  "
      ]
     },
     "execution_count": 3,
     "metadata": {},
     "output_type": "execute_result"
    }
   ],
   "source": [
    "cust_data.sample(3)"
   ]
  },
  {
   "cell_type": "code",
   "execution_count": 4,
   "id": "1ae37316",
   "metadata": {},
   "outputs": [
    {
     "data": {
      "text/plain": [
       "index               0\n",
       "InvoiceNo           0\n",
       "StockCode           0\n",
       "Description      1454\n",
       "Quantity            0\n",
       "InvoiceDate         0\n",
       "UnitPrice           0\n",
       "CustomerID     135080\n",
       "Country             0\n",
       "dtype: int64"
      ]
     },
     "execution_count": 4,
     "metadata": {},
     "output_type": "execute_result"
    }
   ],
   "source": [
    "cust_data.isna().sum()"
   ]
  },
  {
   "cell_type": "markdown",
   "id": "2f03a843",
   "metadata": {},
   "source": [
    "DATA CLEANING"
   ]
  },
  {
   "cell_type": "code",
   "execution_count": 5,
   "id": "b409f840",
   "metadata": {},
   "outputs": [
    {
     "name": "stdout",
     "output_type": "stream",
     "text": [
      "The percentage of missing data is: 2.7994450072695685\n"
     ]
    }
   ],
   "source": [
    "row, col = cust_data.shape\n",
    "total_cells = row * col\n",
    "missing_cells = cust_data.isna().sum()\n",
    "missing_data = missing_cells.sum()\n",
    "total_missing_percentage = ( missing_data / total_cells ) * 100\n",
    "print (f'The percentage of missing data is: {total_missing_percentage}')"
   ]
  },
  {
   "cell_type": "code",
   "execution_count": 6,
   "id": "f996a617",
   "metadata": {},
   "outputs": [
    {
     "name": "stdout",
     "output_type": "stream",
     "text": [
      "The dataset has 541909 rows and 9 columns\n"
     ]
    }
   ],
   "source": [
    "print (f'The dataset has {row} rows and {col} columns')"
   ]
  },
  {
   "cell_type": "code",
   "execution_count": 7,
   "id": "86f3f6f7",
   "metadata": {},
   "outputs": [
    {
     "name": "stdout",
     "output_type": "stream",
     "text": [
      "For the rows with exactly 1 missing values, NaN values are found in:\n",
      "CustomerID    133626\n",
      "dtype: int64\n",
      "\n",
      "\n",
      "\n",
      "For the rows with exactly 2 missing values, NaN values are found in:\n",
      "Description    1454\n",
      "CustomerID     1454\n",
      "dtype: int64\n",
      "\n",
      "\n",
      "\n"
     ]
    }
   ],
   "source": [
    "missing_values = cust_data.isnull().sum(axis=1)\n",
    "for n in missing_values.value_counts().sort_index().index:\n",
    "    if n > 0:\n",
    "        print(f\"For the rows with exactly {n} missing values, NaN values are found in:\")\n",
    "        n_miss_per_col = cust_data[missing_values == n].isnull().sum()\n",
    "        print(n_miss_per_col[n_miss_per_col > 0])\n",
    "        print('\\n\\n')"
   ]
  },
  {
   "cell_type": "code",
   "execution_count": 8,
   "id": "3e4d89da",
   "metadata": {},
   "outputs": [],
   "source": [
    "cust_data.dropna(axis = 0,inplace=True)"
   ]
  },
  {
   "cell_type": "code",
   "execution_count": 9,
   "id": "0de1ec49",
   "metadata": {},
   "outputs": [
    {
     "data": {
      "text/plain": [
       "(406829, 9)"
      ]
     },
     "execution_count": 9,
     "metadata": {},
     "output_type": "execute_result"
    }
   ],
   "source": [
    "cust_data.shape"
   ]
  },
  {
   "cell_type": "markdown",
   "id": "06110aa5",
   "metadata": {},
   "source": [
    "DATA FORMATTING"
   ]
  },
  {
   "cell_type": "code",
   "execution_count": 10,
   "id": "4204121c",
   "metadata": {},
   "outputs": [
    {
     "data": {
      "text/plain": [
       "index            int64\n",
       "InvoiceNo       object\n",
       "StockCode       object\n",
       "Description     object\n",
       "Quantity         int64\n",
       "InvoiceDate     object\n",
       "UnitPrice      float64\n",
       "CustomerID     float64\n",
       "Country         object\n",
       "dtype: object"
      ]
     },
     "execution_count": 10,
     "metadata": {},
     "output_type": "execute_result"
    }
   ],
   "source": [
    "cust_data.dtypes"
   ]
  },
  {
   "cell_type": "code",
   "execution_count": 11,
   "id": "31ece347",
   "metadata": {},
   "outputs": [],
   "source": [
    "cust_data['InvoiceNo'] = cust_data['InvoiceNo'].astype('string')\n",
    "cust_data['StockCode'] = cust_data['StockCode'].astype('string')\n",
    "cust_data['Description'] = cust_data['Description'].astype('string')\n",
    "cust_data['InvoiceDate'] = pd.to_datetime(cust_data['InvoiceDate'])"
   ]
  },
  {
   "cell_type": "markdown",
   "id": "f997fd24",
   "metadata": {},
   "source": [
    "ADDING NEW COLUMN 'TotalAmount'"
   ]
  },
  {
   "cell_type": "code",
   "execution_count": 12,
   "id": "05c589df",
   "metadata": {},
   "outputs": [],
   "source": [
    "cust_data['TotalAmount'] = cust_data['Quantity'] * cust_data['UnitPrice']"
   ]
  },
  {
   "cell_type": "code",
   "execution_count": 13,
   "id": "06b0225a",
   "metadata": {},
   "outputs": [
    {
     "data": {
      "text/plain": [
       "Description\n",
       "WHITE HANGING HEART T-LIGHT HOLDER     2070\n",
       "REGENCY CAKESTAND 3 TIER               1905\n",
       "JUMBO BAG RED RETROSPOT                1662\n",
       "ASSORTED COLOUR BIRD ORNAMENT          1418\n",
       "PARTY BUNTING                          1416\n",
       "                                       ... \n",
       "NEW BAROQUE B'FLY NECKLACE CRYSTAL        1\n",
       "GLASS AND PAINTED BEADS BRACELET OL       1\n",
       "GLASS AND BEADS BRACELET IVORY            1\n",
       "CROCHET LILAC/RED BEAR KEYRING            1\n",
       "PINK BAROQUE FLOCK CANDLE HOLDER          1\n",
       "Name: count, Length: 3896, dtype: Int64"
      ]
     },
     "execution_count": 13,
     "metadata": {},
     "output_type": "execute_result"
    }
   ],
   "source": [
    "cust_data['Description'].value_counts()"
   ]
  },
  {
   "cell_type": "markdown",
   "id": "acfca027",
   "metadata": {},
   "source": [
    "FINDING THE LATEST INVOICE DATE"
   ]
  },
  {
   "cell_type": "code",
   "execution_count": 14,
   "id": "fd6af7d9",
   "metadata": {},
   "outputs": [
    {
     "name": "stdout",
     "output_type": "stream",
     "text": [
      "The latest invoice date is: 2011-12-09 12:50:00\n"
     ]
    }
   ],
   "source": [
    "latest_invoice_date = cust_data['InvoiceDate'].max()\n",
    "\n",
    "print(f\"The latest invoice date is: {latest_invoice_date}\")"
   ]
  },
  {
   "cell_type": "code",
   "execution_count": 15,
   "id": "24b5f6d0",
   "metadata": {},
   "outputs": [
    {
     "name": "stdout",
     "output_type": "stream",
     "text": [
      "Date : 2012-01-01 00:00:00\n"
     ]
    }
   ],
   "source": [
    "from datetime import date as dt\n",
    "today = pd.Timestamp('2012-01-01')\n",
    "print(f\"Date : {today}\")"
   ]
  },
  {
   "cell_type": "markdown",
   "id": "2188ddc8",
   "metadata": {},
   "source": [
    "CALCULATE THE RFM VALUES"
   ]
  },
  {
   "cell_type": "code",
   "execution_count": 16,
   "id": "1a06f7f3",
   "metadata": {},
   "outputs": [],
   "source": [
    "rfm_values = cust_data.groupby('CustomerID').agg({\n",
    "    'InvoiceDate': lambda x: (today - x.max()).days,\n",
    "    'CustomerID': 'count',\n",
    "    'TotalAmount': 'sum'\n",
    "}).rename(columns={'InvoiceDate': 'Recency', 'CustomerID': 'Frequency', 'TotalAmount': 'Monetary'})"
   ]
  },
  {
   "cell_type": "code",
   "execution_count": 17,
   "id": "d9e05666",
   "metadata": {},
   "outputs": [
    {
     "name": "stdout",
     "output_type": "stream",
     "text": [
      "            Recency  Frequency  Monetary\n",
      "CustomerID                              \n",
      "12346.0         347          2      0.00\n",
      "12347.0          24        182   4310.00\n",
      "12348.0          97         31   1797.24\n",
      "12349.0          40         73   1757.55\n",
      "12350.0         332         17    334.40\n",
      "...             ...        ...       ...\n",
      "18280.0         299         10    180.60\n",
      "18281.0         202          7     80.82\n",
      "18282.0          29         13    176.60\n",
      "18283.0          25        756   2094.88\n",
      "18287.0          64         70   1837.28\n",
      "\n",
      "[4372 rows x 3 columns]\n"
     ]
    }
   ],
   "source": [
    "print(rfm_values)\n",
    "rfm_values.reset_index(inplace=True)"
   ]
  },
  {
   "cell_type": "code",
   "execution_count": 18,
   "id": "ec8468d4",
   "metadata": {},
   "outputs": [],
   "source": [
    "rfm_values['R Score'] = pd.qcut (rfm_values['Recency'],4, labels = [ 1, 2, 3, 4]).astype(pd.Int64Dtype()).fillna(0).astype(int)\n",
    "rfm_values['F Score'] = pd.qcut (rfm_values['Frequency'].rank(method= \"first\"), 4, labels = [1, 2, 3, 4]).astype(pd.Int64Dtype()).fillna(0).astype(int)\n",
    "rfm_values['M Score'] = pd.qcut (rfm_values['Monetary'] , 4, labels = [1, 2, 3, 4]).astype(pd.Int64Dtype()).fillna(0).astype(int)"
   ]
  },
  {
   "cell_type": "code",
   "execution_count": 19,
   "id": "74611cef",
   "metadata": {},
   "outputs": [],
   "source": [
    "rfm_values['RFM_Segment'] = rfm_values['R Score'].astype(\"string\") + rfm_values['F Score'].astype(\"string\") + rfm_values['M Score'].astype(\"string\")\n",
    "rfm_values['RFM Score'] = rfm_values[['R Score', 'F Score', 'M Score']].sum(axis=1)"
   ]
  },
  {
   "cell_type": "code",
   "execution_count": 20,
   "id": "eea607e7",
   "metadata": {},
   "outputs": [
    {
     "name": "stdout",
     "output_type": "stream",
     "text": [
      "      CustomerID  Recency  Frequency  Monetary  R Score  F Score  M Score  \\\n",
      "0        12346.0      347          2      0.00        4        1        1   \n",
      "1        12347.0       24        182   4310.00        1        4        4   \n",
      "2        12348.0       97         31   1797.24        3        2        4   \n",
      "3        12349.0       40         73   1757.55        2        3        4   \n",
      "4        12350.0      332         17    334.40        4        1        2   \n",
      "...          ...      ...        ...       ...      ...      ...      ...   \n",
      "4367     18280.0      299         10    180.60        4        1        1   \n",
      "4368     18281.0      202          7     80.82        4        1        1   \n",
      "4369     18282.0       29         13    176.60        1        1        1   \n",
      "4370     18283.0       25        756   2094.88        1        4        4   \n",
      "4371     18287.0       64         70   1837.28        2        3        4   \n",
      "\n",
      "     RFM_Segment  RFM Score  \n",
      "0            411          6  \n",
      "1            144          9  \n",
      "2            324          9  \n",
      "3            234          9  \n",
      "4            412          7  \n",
      "...          ...        ...  \n",
      "4367         411          6  \n",
      "4368         411          6  \n",
      "4369         111          3  \n",
      "4370         144          9  \n",
      "4371         234          9  \n",
      "\n",
      "[4372 rows x 9 columns]\n"
     ]
    }
   ],
   "source": [
    "print(rfm_values)"
   ]
  },
  {
   "cell_type": "markdown",
   "id": "10d0028e",
   "metadata": {},
   "source": [
    "SEGMENT DISTRIBUTION"
   ]
  },
  {
   "cell_type": "code",
   "execution_count": 21,
   "id": "30def2c9",
   "metadata": {},
   "outputs": [],
   "source": [
    "def rfm_classification(row):\n",
    "    if row['RFM Score'] >= 9:\n",
    "        return \"Best Customers\"\n",
    "    elif row['RFM Score'] >= 6:\n",
    "        return \"Loyalists\"\n",
    "    elif row['RFM Score'] >= 3:\n",
    "        return \"Potential Loyalists\"\n",
    "    else:\n",
    "        return \"At Risk!\"\n",
    "    \n",
    "rfm_values['Customer_Segment'] = rfm_values.apply(rfm_classification, axis=1)"
   ]
  },
  {
   "cell_type": "code",
   "execution_count": 22,
   "id": "6321f87a",
   "metadata": {},
   "outputs": [
    {
     "name": "stdout",
     "output_type": "stream",
     "text": [
      "Customer_Segment\n",
      "Loyalists              2313\n",
      "Best Customers         1451\n",
      "Potential Loyalists     608\n",
      "Name: count, dtype: int64\n",
      "      Customer_Segment     Recency   Frequency     Monetary\n",
      "0       Best Customers   87.536871  208.922123  4479.107079\n",
      "1            Loyalists  143.469520   40.876783   716.188748\n",
      "2  Potential Loyalists   62.032895   15.024671   237.396168\n"
     ]
    }
   ],
   "source": [
    "segment_counts = rfm_values['Customer_Segment'].value_counts()\n",
    "print(segment_counts)\n",
    "\n",
    "segment_summary = rfm_values.groupby('Customer_Segment').agg({\n",
    "    'Recency': 'mean',\n",
    "    'Frequency': 'mean',\n",
    "    'Monetary': 'mean'\n",
    "}).reset_index()\n",
    "print(segment_summary)\n"
   ]
  },
  {
   "cell_type": "markdown",
   "id": "832e6a28",
   "metadata": {},
   "source": [
    "NUMERICAL COUNT AND PERCENTAGE COUNT OF EACH SEGMENT"
   ]
  },
  {
   "cell_type": "code",
   "execution_count": 23,
   "id": "98236733",
   "metadata": {},
   "outputs": [
    {
     "name": "stdout",
     "output_type": "stream",
     "text": [
      "Customer_Segment\n",
      "Loyalists              52.904849\n",
      "Best Customers         33.188472\n",
      "Potential Loyalists    13.906679\n",
      "Name: proportion, dtype: float64\n"
     ]
    }
   ],
   "source": [
    "score_percentages = rfm_values['Customer_Segment'].value_counts(normalize=True) * 100\n",
    "print(score_percentages)"
   ]
  },
  {
   "cell_type": "code",
   "execution_count": 24,
   "id": "945df767",
   "metadata": {
    "scrolled": true
   },
   "outputs": [
    {
     "data": {
      "text/plain": [
       "Customer_Segment\n",
       "Loyalists              2313\n",
       "Best Customers         1451\n",
       "Potential Loyalists     608\n",
       "Name: count, dtype: int64"
      ]
     },
     "execution_count": 24,
     "metadata": {},
     "output_type": "execute_result"
    }
   ],
   "source": [
    "rfm_values['Customer_Segment'].value_counts()"
   ]
  },
  {
   "cell_type": "markdown",
   "id": "71879c85",
   "metadata": {},
   "source": [
    "SEGMENT WISE SUMMARY"
   ]
  },
  {
   "cell_type": "code",
   "execution_count": 25,
   "id": "aa80335b",
   "metadata": {},
   "outputs": [
    {
     "data": {
      "text/html": [
       "<div>\n",
       "<style scoped>\n",
       "    .dataframe tbody tr th:only-of-type {\n",
       "        vertical-align: middle;\n",
       "    }\n",
       "\n",
       "    .dataframe tbody tr th {\n",
       "        vertical-align: top;\n",
       "    }\n",
       "\n",
       "    .dataframe thead th {\n",
       "        text-align: right;\n",
       "    }\n",
       "</style>\n",
       "<table border=\"1\" class=\"dataframe\">\n",
       "  <thead>\n",
       "    <tr style=\"text-align: right;\">\n",
       "      <th></th>\n",
       "      <th>Customer_Segment</th>\n",
       "      <th>Recency</th>\n",
       "      <th>Frequency</th>\n",
       "      <th>Monetary</th>\n",
       "    </tr>\n",
       "  </thead>\n",
       "  <tbody>\n",
       "    <tr>\n",
       "      <th>0</th>\n",
       "      <td>Best Customers</td>\n",
       "      <td>87.536871</td>\n",
       "      <td>208.922123</td>\n",
       "      <td>4479.107079</td>\n",
       "    </tr>\n",
       "    <tr>\n",
       "      <th>1</th>\n",
       "      <td>Loyalists</td>\n",
       "      <td>143.469520</td>\n",
       "      <td>40.876783</td>\n",
       "      <td>716.188748</td>\n",
       "    </tr>\n",
       "    <tr>\n",
       "      <th>2</th>\n",
       "      <td>Potential Loyalists</td>\n",
       "      <td>62.032895</td>\n",
       "      <td>15.024671</td>\n",
       "      <td>237.396168</td>\n",
       "    </tr>\n",
       "  </tbody>\n",
       "</table>\n",
       "</div>"
      ],
      "text/plain": [
       "      Customer_Segment     Recency   Frequency     Monetary\n",
       "0       Best Customers   87.536871  208.922123  4479.107079\n",
       "1            Loyalists  143.469520   40.876783   716.188748\n",
       "2  Potential Loyalists   62.032895   15.024671   237.396168"
      ]
     },
     "execution_count": 25,
     "metadata": {},
     "output_type": "execute_result"
    }
   ],
   "source": [
    "segment_summary"
   ]
  },
  {
   "cell_type": "code",
   "execution_count": 26,
   "id": "71fc3eeb",
   "metadata": {},
   "outputs": [
    {
     "name": "stdout",
     "output_type": "stream",
     "text": [
      "Segment with highest Recency: Loyalists\n",
      "Segment with highest Frequency: Best Customers\n",
      "Segment with highest Monetary: Best Customers\n"
     ]
    }
   ],
   "source": [
    "# Calculate mean R, F, M values for each segment\n",
    "rfm_agg = segment_summary.groupby('Customer_Segment').agg({\n",
    "    'Recency': 'mean',\n",
    "    'Frequency': 'mean',\n",
    "    'Monetary': 'mean'\n",
    "}).reset_index()\n",
    "\n",
    "# Identify the segment with the highest mean Recency, Frequency, and Monetary values\n",
    "highest_recency_segment = rfm_agg.loc[rfm_agg['Recency'].idxmax()]['Customer_Segment']\n",
    "highest_frequency_segment = rfm_agg.loc[rfm_agg['Frequency'].idxmax()]['Customer_Segment']\n",
    "highest_monetary_segment = rfm_agg.loc[rfm_agg['Monetary'].idxmax()]['Customer_Segment']\n",
    "\n",
    "print(\"Segment with highest Recency:\", highest_recency_segment)\n",
    "print(\"Segment with highest Frequency:\", highest_frequency_segment)\n",
    "print(\"Segment with highest Monetary:\", highest_monetary_segment)\n"
   ]
  },
  {
   "cell_type": "code",
   "execution_count": 27,
   "id": "27e31e4d",
   "metadata": {},
   "outputs": [
    {
     "data": {
      "text/html": [
       "<div>\n",
       "<style scoped>\n",
       "    .dataframe tbody tr th:only-of-type {\n",
       "        vertical-align: middle;\n",
       "    }\n",
       "\n",
       "    .dataframe tbody tr th {\n",
       "        vertical-align: top;\n",
       "    }\n",
       "\n",
       "    .dataframe thead th {\n",
       "        text-align: right;\n",
       "    }\n",
       "</style>\n",
       "<table border=\"1\" class=\"dataframe\">\n",
       "  <thead>\n",
       "    <tr style=\"text-align: right;\">\n",
       "      <th></th>\n",
       "      <th>CustomerID</th>\n",
       "      <th>Recency</th>\n",
       "      <th>Frequency</th>\n",
       "      <th>Monetary</th>\n",
       "      <th>R Score</th>\n",
       "      <th>F Score</th>\n",
       "      <th>M Score</th>\n",
       "      <th>RFM_Segment</th>\n",
       "      <th>RFM Score</th>\n",
       "      <th>Customer_Segment</th>\n",
       "    </tr>\n",
       "  </thead>\n",
       "  <tbody>\n",
       "    <tr>\n",
       "      <th>0</th>\n",
       "      <td>12346.0</td>\n",
       "      <td>347</td>\n",
       "      <td>2</td>\n",
       "      <td>0.00</td>\n",
       "      <td>4</td>\n",
       "      <td>1</td>\n",
       "      <td>1</td>\n",
       "      <td>411</td>\n",
       "      <td>6</td>\n",
       "      <td>Loyalists</td>\n",
       "    </tr>\n",
       "    <tr>\n",
       "      <th>1</th>\n",
       "      <td>12347.0</td>\n",
       "      <td>24</td>\n",
       "      <td>182</td>\n",
       "      <td>4310.00</td>\n",
       "      <td>1</td>\n",
       "      <td>4</td>\n",
       "      <td>4</td>\n",
       "      <td>144</td>\n",
       "      <td>9</td>\n",
       "      <td>Best Customers</td>\n",
       "    </tr>\n",
       "    <tr>\n",
       "      <th>2</th>\n",
       "      <td>12348.0</td>\n",
       "      <td>97</td>\n",
       "      <td>31</td>\n",
       "      <td>1797.24</td>\n",
       "      <td>3</td>\n",
       "      <td>2</td>\n",
       "      <td>4</td>\n",
       "      <td>324</td>\n",
       "      <td>9</td>\n",
       "      <td>Best Customers</td>\n",
       "    </tr>\n",
       "    <tr>\n",
       "      <th>3</th>\n",
       "      <td>12349.0</td>\n",
       "      <td>40</td>\n",
       "      <td>73</td>\n",
       "      <td>1757.55</td>\n",
       "      <td>2</td>\n",
       "      <td>3</td>\n",
       "      <td>4</td>\n",
       "      <td>234</td>\n",
       "      <td>9</td>\n",
       "      <td>Best Customers</td>\n",
       "    </tr>\n",
       "    <tr>\n",
       "      <th>4</th>\n",
       "      <td>12350.0</td>\n",
       "      <td>332</td>\n",
       "      <td>17</td>\n",
       "      <td>334.40</td>\n",
       "      <td>4</td>\n",
       "      <td>1</td>\n",
       "      <td>2</td>\n",
       "      <td>412</td>\n",
       "      <td>7</td>\n",
       "      <td>Loyalists</td>\n",
       "    </tr>\n",
       "    <tr>\n",
       "      <th>...</th>\n",
       "      <td>...</td>\n",
       "      <td>...</td>\n",
       "      <td>...</td>\n",
       "      <td>...</td>\n",
       "      <td>...</td>\n",
       "      <td>...</td>\n",
       "      <td>...</td>\n",
       "      <td>...</td>\n",
       "      <td>...</td>\n",
       "      <td>...</td>\n",
       "    </tr>\n",
       "    <tr>\n",
       "      <th>4367</th>\n",
       "      <td>18280.0</td>\n",
       "      <td>299</td>\n",
       "      <td>10</td>\n",
       "      <td>180.60</td>\n",
       "      <td>4</td>\n",
       "      <td>1</td>\n",
       "      <td>1</td>\n",
       "      <td>411</td>\n",
       "      <td>6</td>\n",
       "      <td>Loyalists</td>\n",
       "    </tr>\n",
       "    <tr>\n",
       "      <th>4368</th>\n",
       "      <td>18281.0</td>\n",
       "      <td>202</td>\n",
       "      <td>7</td>\n",
       "      <td>80.82</td>\n",
       "      <td>4</td>\n",
       "      <td>1</td>\n",
       "      <td>1</td>\n",
       "      <td>411</td>\n",
       "      <td>6</td>\n",
       "      <td>Loyalists</td>\n",
       "    </tr>\n",
       "    <tr>\n",
       "      <th>4369</th>\n",
       "      <td>18282.0</td>\n",
       "      <td>29</td>\n",
       "      <td>13</td>\n",
       "      <td>176.60</td>\n",
       "      <td>1</td>\n",
       "      <td>1</td>\n",
       "      <td>1</td>\n",
       "      <td>111</td>\n",
       "      <td>3</td>\n",
       "      <td>Potential Loyalists</td>\n",
       "    </tr>\n",
       "    <tr>\n",
       "      <th>4370</th>\n",
       "      <td>18283.0</td>\n",
       "      <td>25</td>\n",
       "      <td>756</td>\n",
       "      <td>2094.88</td>\n",
       "      <td>1</td>\n",
       "      <td>4</td>\n",
       "      <td>4</td>\n",
       "      <td>144</td>\n",
       "      <td>9</td>\n",
       "      <td>Best Customers</td>\n",
       "    </tr>\n",
       "    <tr>\n",
       "      <th>4371</th>\n",
       "      <td>18287.0</td>\n",
       "      <td>64</td>\n",
       "      <td>70</td>\n",
       "      <td>1837.28</td>\n",
       "      <td>2</td>\n",
       "      <td>3</td>\n",
       "      <td>4</td>\n",
       "      <td>234</td>\n",
       "      <td>9</td>\n",
       "      <td>Best Customers</td>\n",
       "    </tr>\n",
       "  </tbody>\n",
       "</table>\n",
       "<p>4372 rows × 10 columns</p>\n",
       "</div>"
      ],
      "text/plain": [
       "      CustomerID  Recency  Frequency  Monetary  R Score  F Score  M Score  \\\n",
       "0        12346.0      347          2      0.00        4        1        1   \n",
       "1        12347.0       24        182   4310.00        1        4        4   \n",
       "2        12348.0       97         31   1797.24        3        2        4   \n",
       "3        12349.0       40         73   1757.55        2        3        4   \n",
       "4        12350.0      332         17    334.40        4        1        2   \n",
       "...          ...      ...        ...       ...      ...      ...      ...   \n",
       "4367     18280.0      299         10    180.60        4        1        1   \n",
       "4368     18281.0      202          7     80.82        4        1        1   \n",
       "4369     18282.0       29         13    176.60        1        1        1   \n",
       "4370     18283.0       25        756   2094.88        1        4        4   \n",
       "4371     18287.0       64         70   1837.28        2        3        4   \n",
       "\n",
       "     RFM_Segment  RFM Score     Customer_Segment  \n",
       "0            411          6            Loyalists  \n",
       "1            144          9       Best Customers  \n",
       "2            324          9       Best Customers  \n",
       "3            234          9       Best Customers  \n",
       "4            412          7            Loyalists  \n",
       "...          ...        ...                  ...  \n",
       "4367         411          6            Loyalists  \n",
       "4368         411          6            Loyalists  \n",
       "4369         111          3  Potential Loyalists  \n",
       "4370         144          9       Best Customers  \n",
       "4371         234          9       Best Customers  \n",
       "\n",
       "[4372 rows x 10 columns]"
      ]
     },
     "execution_count": 27,
     "metadata": {},
     "output_type": "execute_result"
    }
   ],
   "source": [
    "rfm_values"
   ]
  },
  {
   "cell_type": "markdown",
   "id": "c11185f6",
   "metadata": {},
   "source": [
    "IDENTIFYING THE SEGMENT WITH THE HIGHEST VALUES OF RECENCY, FREQUENCY AND MONETARY"
   ]
  },
  {
   "cell_type": "code",
   "execution_count": 28,
   "id": "9f3cdfeb",
   "metadata": {},
   "outputs": [
    {
     "name": "stdout",
     "output_type": "stream",
     "text": [
      "Segment with highest Recency: Loyalists\n",
      "Segment with highest Frequency: Best Customers\n",
      "Segment with highest Monetary: Best Customers\n",
      "Segment with highest Monetary value: Best Customers\n"
     ]
    }
   ],
   "source": [
    "# Calculate mean R, F, M values for each segment\n",
    "rfm_agg = rfm_values.groupby('Customer_Segment').agg({\n",
    "    'R Score': 'mean',\n",
    "    'F Score': 'mean',\n",
    "    'M Score': 'mean',\n",
    "    'Monetary':'mean',\n",
    "    'Frequency': 'mean',\n",
    "    'Recency':'mean'\n",
    "}).reset_index()\n",
    "\n",
    "# Identify the segment with the highest mean Recency, Frequency, and Monetary values\n",
    "highest_recency_segment = rfm_agg.loc[rfm_agg['R Score'].idxmax()]['Customer_Segment']\n",
    "highest_frequency_segment = rfm_agg.loc[rfm_agg['F Score'].idxmax()]['Customer_Segment']\n",
    "highest_monetary_segment = rfm_agg.loc[rfm_agg['M Score'].idxmax()]['Customer_Segment']\n",
    "highest_monetaryvalue_segment = rfm_agg.loc[rfm_agg['Monetary'].idxmax()]['Customer_Segment']\n",
    "\n",
    "\n",
    "print(\"Segment with highest Recency:\", highest_recency_segment)\n",
    "print(\"Segment with highest Frequency:\", highest_frequency_segment)\n",
    "print(\"Segment with highest Monetary:\", highest_monetary_segment)\n",
    "print(\"Segment with highest Monetary value:\", highest_monetaryvalue_segment)\n"
   ]
  },
  {
   "cell_type": "code",
   "execution_count": 29,
   "id": "dbb076da",
   "metadata": {},
   "outputs": [
    {
     "data": {
      "text/html": [
       "<div>\n",
       "<style scoped>\n",
       "    .dataframe tbody tr th:only-of-type {\n",
       "        vertical-align: middle;\n",
       "    }\n",
       "\n",
       "    .dataframe tbody tr th {\n",
       "        vertical-align: top;\n",
       "    }\n",
       "\n",
       "    .dataframe thead th {\n",
       "        text-align: right;\n",
       "    }\n",
       "</style>\n",
       "<table border=\"1\" class=\"dataframe\">\n",
       "  <thead>\n",
       "    <tr style=\"text-align: right;\">\n",
       "      <th></th>\n",
       "      <th>Customer_Segment</th>\n",
       "      <th>R Score</th>\n",
       "      <th>F Score</th>\n",
       "      <th>M Score</th>\n",
       "      <th>Monetary</th>\n",
       "      <th>Frequency</th>\n",
       "      <th>Recency</th>\n",
       "    </tr>\n",
       "  </thead>\n",
       "  <tbody>\n",
       "    <tr>\n",
       "      <th>0</th>\n",
       "      <td>Best Customers</td>\n",
       "      <td>2.261888</td>\n",
       "      <td>3.623019</td>\n",
       "      <td>3.613370</td>\n",
       "      <td>4479.107079</td>\n",
       "      <td>208.922123</td>\n",
       "      <td>87.536871</td>\n",
       "    </tr>\n",
       "    <tr>\n",
       "      <th>1</th>\n",
       "      <td>Loyalists</td>\n",
       "      <td>2.771725</td>\n",
       "      <td>2.109814</td>\n",
       "      <td>2.129702</td>\n",
       "      <td>716.188748</td>\n",
       "      <td>40.876783</td>\n",
       "      <td>143.469520</td>\n",
       "    </tr>\n",
       "    <tr>\n",
       "      <th>2</th>\n",
       "      <td>Potential Loyalists</td>\n",
       "      <td>1.955592</td>\n",
       "      <td>1.304276</td>\n",
       "      <td>1.251645</td>\n",
       "      <td>237.396168</td>\n",
       "      <td>15.024671</td>\n",
       "      <td>62.032895</td>\n",
       "    </tr>\n",
       "  </tbody>\n",
       "</table>\n",
       "</div>"
      ],
      "text/plain": [
       "      Customer_Segment   R Score   F Score   M Score     Monetary   Frequency  \\\n",
       "0       Best Customers  2.261888  3.623019  3.613370  4479.107079  208.922123   \n",
       "1            Loyalists  2.771725  2.109814  2.129702   716.188748   40.876783   \n",
       "2  Potential Loyalists  1.955592  1.304276  1.251645   237.396168   15.024671   \n",
       "\n",
       "      Recency  \n",
       "0   87.536871  \n",
       "1  143.469520  \n",
       "2   62.032895  "
      ]
     },
     "execution_count": 29,
     "metadata": {},
     "output_type": "execute_result"
    }
   ],
   "source": [
    "rfm_agg"
   ]
  },
  {
   "cell_type": "markdown",
   "id": "2a2ee060",
   "metadata": {},
   "source": [
    "AVERAGE REVENUE AND CLV VALUE CALCULATION"
   ]
  },
  {
   "cell_type": "code",
   "execution_count": 30,
   "id": "f8aee9fd",
   "metadata": {},
   "outputs": [
    {
     "name": "stdout",
     "output_type": "stream",
     "text": [
      "      Customer_Segment        CLV\n",
      "0       Best Customers  10.719561\n",
      "1            Loyalists   8.760336\n",
      "2  Potential Loyalists   7.900212\n"
     ]
    }
   ],
   "source": [
    "# Define a gross margin rate (for example, 0.50 means 50%)\n",
    "gross_margin_rate = 0.50\n",
    "\n",
    "# Estimate the average customer lifespan (assume it is 1 year here)\n",
    "average_customer_lifespan = 1\n",
    "\n",
    "# Calculate the average revenue per customer for each segment\n",
    "rfm_agg['Avg_Revenue'] = rfm_agg['Monetary'] / rfm_agg['Frequency']\n",
    "\n",
    "# Calculate the CLV for each segment\n",
    "rfm_agg['CLV'] = rfm_agg['Avg_Revenue'] * gross_margin_rate * average_customer_lifespan\n",
    "\n",
    "# Print the CLV for each segment\n",
    "print(rfm_agg[['Customer_Segment', 'CLV']])\n"
   ]
  },
  {
   "cell_type": "code",
   "execution_count": 31,
   "id": "b8c4550a",
   "metadata": {},
   "outputs": [
    {
     "data": {
      "text/html": [
       "<div>\n",
       "<style scoped>\n",
       "    .dataframe tbody tr th:only-of-type {\n",
       "        vertical-align: middle;\n",
       "    }\n",
       "\n",
       "    .dataframe tbody tr th {\n",
       "        vertical-align: top;\n",
       "    }\n",
       "\n",
       "    .dataframe thead th {\n",
       "        text-align: right;\n",
       "    }\n",
       "</style>\n",
       "<table border=\"1\" class=\"dataframe\">\n",
       "  <thead>\n",
       "    <tr style=\"text-align: right;\">\n",
       "      <th></th>\n",
       "      <th>Customer_Segment</th>\n",
       "      <th>R Score</th>\n",
       "      <th>F Score</th>\n",
       "      <th>M Score</th>\n",
       "      <th>Monetary</th>\n",
       "      <th>Frequency</th>\n",
       "      <th>Recency</th>\n",
       "      <th>Avg_Revenue</th>\n",
       "      <th>CLV</th>\n",
       "    </tr>\n",
       "  </thead>\n",
       "  <tbody>\n",
       "    <tr>\n",
       "      <th>0</th>\n",
       "      <td>Best Customers</td>\n",
       "      <td>2.261888</td>\n",
       "      <td>3.623019</td>\n",
       "      <td>3.613370</td>\n",
       "      <td>4479.107079</td>\n",
       "      <td>208.922123</td>\n",
       "      <td>87.536871</td>\n",
       "      <td>21.439123</td>\n",
       "      <td>10.719561</td>\n",
       "    </tr>\n",
       "    <tr>\n",
       "      <th>1</th>\n",
       "      <td>Loyalists</td>\n",
       "      <td>2.771725</td>\n",
       "      <td>2.109814</td>\n",
       "      <td>2.129702</td>\n",
       "      <td>716.188748</td>\n",
       "      <td>40.876783</td>\n",
       "      <td>143.469520</td>\n",
       "      <td>17.520673</td>\n",
       "      <td>8.760336</td>\n",
       "    </tr>\n",
       "    <tr>\n",
       "      <th>2</th>\n",
       "      <td>Potential Loyalists</td>\n",
       "      <td>1.955592</td>\n",
       "      <td>1.304276</td>\n",
       "      <td>1.251645</td>\n",
       "      <td>237.396168</td>\n",
       "      <td>15.024671</td>\n",
       "      <td>62.032895</td>\n",
       "      <td>15.800424</td>\n",
       "      <td>7.900212</td>\n",
       "    </tr>\n",
       "  </tbody>\n",
       "</table>\n",
       "</div>"
      ],
      "text/plain": [
       "      Customer_Segment   R Score   F Score   M Score     Monetary   Frequency  \\\n",
       "0       Best Customers  2.261888  3.623019  3.613370  4479.107079  208.922123   \n",
       "1            Loyalists  2.771725  2.109814  2.129702   716.188748   40.876783   \n",
       "2  Potential Loyalists  1.955592  1.304276  1.251645   237.396168   15.024671   \n",
       "\n",
       "      Recency  Avg_Revenue        CLV  \n",
       "0   87.536871    21.439123  10.719561  \n",
       "1  143.469520    17.520673   8.760336  \n",
       "2   62.032895    15.800424   7.900212  "
      ]
     },
     "execution_count": 31,
     "metadata": {},
     "output_type": "execute_result"
    }
   ],
   "source": [
    "rfm_agg"
   ]
  },
  {
   "cell_type": "markdown",
   "id": "20553df3",
   "metadata": {},
   "source": [
    "FINDING THE TOP 5 PRODUCTS IN EACH SEGMENT"
   ]
  },
  {
   "cell_type": "code",
   "execution_count": 32,
   "id": "7ab968f2",
   "metadata": {},
   "outputs": [
    {
     "name": "stdout",
     "output_type": "stream",
     "text": [
      "         Customer_Segment                          Description  Quantity  \\\n",
      "2710       Best Customers             REGENCY CAKESTAND 3 TIER      9221   \n",
      "3631       Best Customers   WHITE HANGING HEART T-LIGHT HOLDER     27574   \n",
      "1724       Best Customers              JUMBO BAG RED RETROSPOT     38063   \n",
      "2294       Best Customers                        PARTY BUNTING     11617   \n",
      "2556       Best Customers                              POSTAGE      2284   \n",
      "...                   ...                                  ...       ...   \n",
      "8059  Potential Loyalists    GLASS STAR FROSTED T-LIGHT HOLDER        -3   \n",
      "9047  Potential Loyalists  SILVER CHRISTMAS TREE BAUBLE STAND         -1   \n",
      "9185  Potential Loyalists          SWEETHEART CARRY-ALL BASKET        -2   \n",
      "8807  Potential Loyalists             REGENCY TEA PLATE ROSES        -20   \n",
      "8457  Potential Loyalists                               Manual      -595   \n",
      "\n",
      "      TotalAmount  \n",
      "2710    106040.40  \n",
      "3631     75842.30  \n",
      "1724     69880.21  \n",
      "2294     52236.63  \n",
      "2556     48932.74  \n",
      "...           ...  \n",
      "8059       -14.85  \n",
      "9047       -16.95  \n",
      "9185       -17.00  \n",
      "8807       -29.00  \n",
      "8457     -2630.71  \n",
      "\n",
      "[9457 rows x 4 columns]\n"
     ]
    }
   ],
   "source": [
    "# Merge the original dataset with the RFM segments\n",
    "cust_data = cust_data.merge(rfm_values, on='CustomerID', how='left',suffixes=('', '_y'))\n",
    "\n",
    "# Group by RFM_Segment and StockCode, then aggregate the quantity or total amount\n",
    "segment_product_agg = cust_data.groupby(['Customer_Segment', 'Description']).agg({\n",
    "    'Quantity': 'sum',\n",
    "    'TotalAmount': 'sum'\n",
    "}).reset_index()\n",
    "\n",
    "# Find the top products for each segment based on quantity or total amount\n",
    "top_products_by_segment = segment_product_agg.sort_values(['Customer_Segment', 'TotalAmount'], ascending=[True, False])\n",
    "\n",
    "# Print the top products for each segment\n",
    "print(top_products_by_segment)"
   ]
  },
  {
   "cell_type": "code",
   "execution_count": 33,
   "id": "b73a6d55",
   "metadata": {},
   "outputs": [
    {
     "data": {
      "text/html": [
       "<div>\n",
       "<style scoped>\n",
       "    .dataframe tbody tr th:only-of-type {\n",
       "        vertical-align: middle;\n",
       "    }\n",
       "\n",
       "    .dataframe tbody tr th {\n",
       "        vertical-align: top;\n",
       "    }\n",
       "\n",
       "    .dataframe thead th {\n",
       "        text-align: right;\n",
       "    }\n",
       "</style>\n",
       "<table border=\"1\" class=\"dataframe\">\n",
       "  <thead>\n",
       "    <tr style=\"text-align: right;\">\n",
       "      <th></th>\n",
       "      <th>Customer_Segment</th>\n",
       "      <th>Description</th>\n",
       "      <th>Quantity</th>\n",
       "      <th>TotalAmount</th>\n",
       "    </tr>\n",
       "  </thead>\n",
       "  <tbody>\n",
       "    <tr>\n",
       "      <th>2710</th>\n",
       "      <td>Best Customers</td>\n",
       "      <td>REGENCY CAKESTAND 3 TIER</td>\n",
       "      <td>9221</td>\n",
       "      <td>106040.40</td>\n",
       "    </tr>\n",
       "    <tr>\n",
       "      <th>3631</th>\n",
       "      <td>Best Customers</td>\n",
       "      <td>WHITE HANGING HEART T-LIGHT HOLDER</td>\n",
       "      <td>27574</td>\n",
       "      <td>75842.30</td>\n",
       "    </tr>\n",
       "    <tr>\n",
       "      <th>1724</th>\n",
       "      <td>Best Customers</td>\n",
       "      <td>JUMBO BAG RED RETROSPOT</td>\n",
       "      <td>38063</td>\n",
       "      <td>69880.21</td>\n",
       "    </tr>\n",
       "    <tr>\n",
       "      <th>2294</th>\n",
       "      <td>Best Customers</td>\n",
       "      <td>PARTY BUNTING</td>\n",
       "      <td>11617</td>\n",
       "      <td>52236.63</td>\n",
       "    </tr>\n",
       "    <tr>\n",
       "      <th>2556</th>\n",
       "      <td>Best Customers</td>\n",
       "      <td>POSTAGE</td>\n",
       "      <td>2284</td>\n",
       "      <td>48932.74</td>\n",
       "    </tr>\n",
       "    <tr>\n",
       "      <th>...</th>\n",
       "      <td>...</td>\n",
       "      <td>...</td>\n",
       "      <td>...</td>\n",
       "      <td>...</td>\n",
       "    </tr>\n",
       "    <tr>\n",
       "      <th>8059</th>\n",
       "      <td>Potential Loyalists</td>\n",
       "      <td>GLASS STAR FROSTED T-LIGHT HOLDER</td>\n",
       "      <td>-3</td>\n",
       "      <td>-14.85</td>\n",
       "    </tr>\n",
       "    <tr>\n",
       "      <th>9047</th>\n",
       "      <td>Potential Loyalists</td>\n",
       "      <td>SILVER CHRISTMAS TREE BAUBLE STAND</td>\n",
       "      <td>-1</td>\n",
       "      <td>-16.95</td>\n",
       "    </tr>\n",
       "    <tr>\n",
       "      <th>9185</th>\n",
       "      <td>Potential Loyalists</td>\n",
       "      <td>SWEETHEART CARRY-ALL BASKET</td>\n",
       "      <td>-2</td>\n",
       "      <td>-17.00</td>\n",
       "    </tr>\n",
       "    <tr>\n",
       "      <th>8807</th>\n",
       "      <td>Potential Loyalists</td>\n",
       "      <td>REGENCY TEA PLATE ROSES</td>\n",
       "      <td>-20</td>\n",
       "      <td>-29.00</td>\n",
       "    </tr>\n",
       "    <tr>\n",
       "      <th>8457</th>\n",
       "      <td>Potential Loyalists</td>\n",
       "      <td>Manual</td>\n",
       "      <td>-595</td>\n",
       "      <td>-2630.71</td>\n",
       "    </tr>\n",
       "  </tbody>\n",
       "</table>\n",
       "<p>9457 rows × 4 columns</p>\n",
       "</div>"
      ],
      "text/plain": [
       "         Customer_Segment                          Description  Quantity  \\\n",
       "2710       Best Customers             REGENCY CAKESTAND 3 TIER      9221   \n",
       "3631       Best Customers   WHITE HANGING HEART T-LIGHT HOLDER     27574   \n",
       "1724       Best Customers              JUMBO BAG RED RETROSPOT     38063   \n",
       "2294       Best Customers                        PARTY BUNTING     11617   \n",
       "2556       Best Customers                              POSTAGE      2284   \n",
       "...                   ...                                  ...       ...   \n",
       "8059  Potential Loyalists    GLASS STAR FROSTED T-LIGHT HOLDER        -3   \n",
       "9047  Potential Loyalists  SILVER CHRISTMAS TREE BAUBLE STAND         -1   \n",
       "9185  Potential Loyalists          SWEETHEART CARRY-ALL BASKET        -2   \n",
       "8807  Potential Loyalists             REGENCY TEA PLATE ROSES        -20   \n",
       "8457  Potential Loyalists                               Manual      -595   \n",
       "\n",
       "      TotalAmount  \n",
       "2710    106040.40  \n",
       "3631     75842.30  \n",
       "1724     69880.21  \n",
       "2294     52236.63  \n",
       "2556     48932.74  \n",
       "...           ...  \n",
       "8059       -14.85  \n",
       "9047       -16.95  \n",
       "9185       -17.00  \n",
       "8807       -29.00  \n",
       "8457     -2630.71  \n",
       "\n",
       "[9457 rows x 4 columns]"
      ]
     },
     "execution_count": 33,
     "metadata": {},
     "output_type": "execute_result"
    }
   ],
   "source": [
    "top_products_by_segment"
   ]
  },
  {
   "cell_type": "code",
   "execution_count": 34,
   "id": "a055cf19",
   "metadata": {},
   "outputs": [],
   "source": [
    "best_cust = top_products_by_segment['Customer_Segment'] == \"Best Customers\""
   ]
  },
  {
   "cell_type": "code",
   "execution_count": 35,
   "id": "171981a1",
   "metadata": {},
   "outputs": [],
   "source": [
    "df = top_products_by_segment[best_cust]"
   ]
  },
  {
   "cell_type": "code",
   "execution_count": 36,
   "id": "8ba7c902",
   "metadata": {},
   "outputs": [
    {
     "data": {
      "text/html": [
       "<div>\n",
       "<style scoped>\n",
       "    .dataframe tbody tr th:only-of-type {\n",
       "        vertical-align: middle;\n",
       "    }\n",
       "\n",
       "    .dataframe tbody tr th {\n",
       "        vertical-align: top;\n",
       "    }\n",
       "\n",
       "    .dataframe thead th {\n",
       "        text-align: right;\n",
       "    }\n",
       "</style>\n",
       "<table border=\"1\" class=\"dataframe\">\n",
       "  <thead>\n",
       "    <tr style=\"text-align: right;\">\n",
       "      <th></th>\n",
       "      <th>Customer_Segment</th>\n",
       "      <th>Description</th>\n",
       "      <th>Quantity</th>\n",
       "      <th>TotalAmount</th>\n",
       "    </tr>\n",
       "  </thead>\n",
       "  <tbody>\n",
       "    <tr>\n",
       "      <th>2710</th>\n",
       "      <td>Best Customers</td>\n",
       "      <td>REGENCY CAKESTAND 3 TIER</td>\n",
       "      <td>9221</td>\n",
       "      <td>106040.40</td>\n",
       "    </tr>\n",
       "    <tr>\n",
       "      <th>3631</th>\n",
       "      <td>Best Customers</td>\n",
       "      <td>WHITE HANGING HEART T-LIGHT HOLDER</td>\n",
       "      <td>27574</td>\n",
       "      <td>75842.30</td>\n",
       "    </tr>\n",
       "    <tr>\n",
       "      <th>1724</th>\n",
       "      <td>Best Customers</td>\n",
       "      <td>JUMBO BAG RED RETROSPOT</td>\n",
       "      <td>38063</td>\n",
       "      <td>69880.21</td>\n",
       "    </tr>\n",
       "    <tr>\n",
       "      <th>2294</th>\n",
       "      <td>Best Customers</td>\n",
       "      <td>PARTY BUNTING</td>\n",
       "      <td>11617</td>\n",
       "      <td>52236.63</td>\n",
       "    </tr>\n",
       "    <tr>\n",
       "      <th>2556</th>\n",
       "      <td>Best Customers</td>\n",
       "      <td>POSTAGE</td>\n",
       "      <td>2284</td>\n",
       "      <td>48932.74</td>\n",
       "    </tr>\n",
       "  </tbody>\n",
       "</table>\n",
       "</div>"
      ],
      "text/plain": [
       "     Customer_Segment                         Description  Quantity  \\\n",
       "2710   Best Customers            REGENCY CAKESTAND 3 TIER      9221   \n",
       "3631   Best Customers  WHITE HANGING HEART T-LIGHT HOLDER     27574   \n",
       "1724   Best Customers             JUMBO BAG RED RETROSPOT     38063   \n",
       "2294   Best Customers                       PARTY BUNTING     11617   \n",
       "2556   Best Customers                             POSTAGE      2284   \n",
       "\n",
       "      TotalAmount  \n",
       "2710    106040.40  \n",
       "3631     75842.30  \n",
       "1724     69880.21  \n",
       "2294     52236.63  \n",
       "2556     48932.74  "
      ]
     },
     "execution_count": 36,
     "metadata": {},
     "output_type": "execute_result"
    }
   ],
   "source": [
    "df.head(5)"
   ]
  },
  {
   "cell_type": "code",
   "execution_count": 37,
   "id": "1abc49ff",
   "metadata": {},
   "outputs": [],
   "source": [
    "loyal_cust = top_products_by_segment['Customer_Segment'] == \"Loyalists\""
   ]
  },
  {
   "cell_type": "code",
   "execution_count": 38,
   "id": "972519ac",
   "metadata": {},
   "outputs": [],
   "source": [
    "df2 = top_products_by_segment[loyal_cust]"
   ]
  },
  {
   "cell_type": "code",
   "execution_count": 39,
   "id": "77df14dc",
   "metadata": {},
   "outputs": [
    {
     "data": {
      "text/html": [
       "<div>\n",
       "<style scoped>\n",
       "    .dataframe tbody tr th:only-of-type {\n",
       "        vertical-align: middle;\n",
       "    }\n",
       "\n",
       "    .dataframe tbody tr th {\n",
       "        vertical-align: top;\n",
       "    }\n",
       "\n",
       "    .dataframe thead th {\n",
       "        text-align: right;\n",
       "    }\n",
       "</style>\n",
       "<table border=\"1\" class=\"dataframe\">\n",
       "  <thead>\n",
       "    <tr style=\"text-align: right;\">\n",
       "      <th></th>\n",
       "      <th>Customer_Segment</th>\n",
       "      <th>Description</th>\n",
       "      <th>Quantity</th>\n",
       "      <th>TotalAmount</th>\n",
       "    </tr>\n",
       "  </thead>\n",
       "  <tbody>\n",
       "    <tr>\n",
       "      <th>5960</th>\n",
       "      <td>Loyalists</td>\n",
       "      <td>PICNIC BASKET WICKER 60 PIECES</td>\n",
       "      <td>61</td>\n",
       "      <td>39619.50</td>\n",
       "    </tr>\n",
       "    <tr>\n",
       "      <th>6281</th>\n",
       "      <td>Loyalists</td>\n",
       "      <td>REGENCY CAKESTAND 3 TIER</td>\n",
       "      <td>2210</td>\n",
       "      <td>25335.40</td>\n",
       "    </tr>\n",
       "    <tr>\n",
       "      <th>7144</th>\n",
       "      <td>Loyalists</td>\n",
       "      <td>WHITE HANGING HEART T-LIGHT HOLDER</td>\n",
       "      <td>6137</td>\n",
       "      <td>16772.15</td>\n",
       "    </tr>\n",
       "    <tr>\n",
       "      <th>6144</th>\n",
       "      <td>Loyalists</td>\n",
       "      <td>POSTAGE</td>\n",
       "      <td>668</td>\n",
       "      <td>16520.04</td>\n",
       "    </tr>\n",
       "    <tr>\n",
       "      <th>4467</th>\n",
       "      <td>Loyalists</td>\n",
       "      <td>CHILLI LIGHTS</td>\n",
       "      <td>3312</td>\n",
       "      <td>15528.80</td>\n",
       "    </tr>\n",
       "  </tbody>\n",
       "</table>\n",
       "</div>"
      ],
      "text/plain": [
       "     Customer_Segment                         Description  Quantity  \\\n",
       "5960        Loyalists      PICNIC BASKET WICKER 60 PIECES        61   \n",
       "6281        Loyalists            REGENCY CAKESTAND 3 TIER      2210   \n",
       "7144        Loyalists  WHITE HANGING HEART T-LIGHT HOLDER      6137   \n",
       "6144        Loyalists                             POSTAGE       668   \n",
       "4467        Loyalists                       CHILLI LIGHTS      3312   \n",
       "\n",
       "      TotalAmount  \n",
       "5960     39619.50  \n",
       "6281     25335.40  \n",
       "7144     16772.15  \n",
       "6144     16520.04  \n",
       "4467     15528.80  "
      ]
     },
     "execution_count": 39,
     "metadata": {},
     "output_type": "execute_result"
    }
   ],
   "source": [
    "df2.head(5)"
   ]
  },
  {
   "cell_type": "code",
   "execution_count": 40,
   "id": "b843523e",
   "metadata": {},
   "outputs": [],
   "source": [
    "pot_loyal_cust = top_products_by_segment['Customer_Segment'] == \"Potential Loyalists\""
   ]
  },
  {
   "cell_type": "code",
   "execution_count": 41,
   "id": "f66d5efa",
   "metadata": {},
   "outputs": [],
   "source": [
    "df3 = top_products_by_segment[pot_loyal_cust]"
   ]
  },
  {
   "cell_type": "code",
   "execution_count": 42,
   "id": "9bf94a87",
   "metadata": {},
   "outputs": [
    {
     "data": {
      "text/html": [
       "<div>\n",
       "<style scoped>\n",
       "    .dataframe tbody tr th:only-of-type {\n",
       "        vertical-align: middle;\n",
       "    }\n",
       "\n",
       "    .dataframe tbody tr th {\n",
       "        vertical-align: top;\n",
       "    }\n",
       "\n",
       "    .dataframe thead th {\n",
       "        text-align: right;\n",
       "    }\n",
       "</style>\n",
       "<table border=\"1\" class=\"dataframe\">\n",
       "  <thead>\n",
       "    <tr style=\"text-align: right;\">\n",
       "      <th></th>\n",
       "      <th>Customer_Segment</th>\n",
       "      <th>Description</th>\n",
       "      <th>Quantity</th>\n",
       "      <th>TotalAmount</th>\n",
       "    </tr>\n",
       "  </thead>\n",
       "  <tbody>\n",
       "    <tr>\n",
       "      <th>7414</th>\n",
       "      <td>Potential Loyalists</td>\n",
       "      <td>ASSORTED COLOUR BIRD ORNAMENT</td>\n",
       "      <td>1056</td>\n",
       "      <td>1707.84</td>\n",
       "    </tr>\n",
       "    <tr>\n",
       "      <th>8800</th>\n",
       "      <td>Potential Loyalists</td>\n",
       "      <td>REGENCY CAKESTAND 3 TIER</td>\n",
       "      <td>124</td>\n",
       "      <td>1494.60</td>\n",
       "    </tr>\n",
       "    <tr>\n",
       "      <th>8559</th>\n",
       "      <td>Potential Loyalists</td>\n",
       "      <td>PAPER CHAIN KIT 50'S CHRISTMAS</td>\n",
       "      <td>521</td>\n",
       "      <td>1408.95</td>\n",
       "    </tr>\n",
       "    <tr>\n",
       "      <th>8706</th>\n",
       "      <td>Potential Loyalists</td>\n",
       "      <td>POSTAGE</td>\n",
       "      <td>50</td>\n",
       "      <td>1257.46</td>\n",
       "    </tr>\n",
       "    <tr>\n",
       "      <th>8719</th>\n",
       "      <td>Potential Loyalists</td>\n",
       "      <td>RABBIT NIGHT LIGHT</td>\n",
       "      <td>654</td>\n",
       "      <td>1221.12</td>\n",
       "    </tr>\n",
       "  </tbody>\n",
       "</table>\n",
       "</div>"
      ],
      "text/plain": [
       "         Customer_Segment                      Description  Quantity  \\\n",
       "7414  Potential Loyalists    ASSORTED COLOUR BIRD ORNAMENT      1056   \n",
       "8800  Potential Loyalists         REGENCY CAKESTAND 3 TIER       124   \n",
       "8559  Potential Loyalists  PAPER CHAIN KIT 50'S CHRISTMAS        521   \n",
       "8706  Potential Loyalists                          POSTAGE        50   \n",
       "8719  Potential Loyalists               RABBIT NIGHT LIGHT       654   \n",
       "\n",
       "      TotalAmount  \n",
       "7414      1707.84  \n",
       "8800      1494.60  \n",
       "8559      1408.95  \n",
       "8706      1257.46  \n",
       "8719      1221.12  "
      ]
     },
     "execution_count": 42,
     "metadata": {},
     "output_type": "execute_result"
    }
   ],
   "source": [
    "df3.head(5)"
   ]
  },
  {
   "cell_type": "markdown",
   "id": "f1f751c9",
   "metadata": {},
   "source": [
    "PLOTTING AND VISUALISATION"
   ]
  },
  {
   "cell_type": "code",
   "execution_count": 43,
   "id": "27996940",
   "metadata": {
    "scrolled": false
   },
   "outputs": [
    {
     "data": {
      "image/png": "[encoded data removed]",
      "text/plain": [
       "<Figure size 1000x600 with 1 Axes>"
      ]
     },
     "metadata": {},
     "output_type": "display_data"
    },
    {
     "data": {
      "image/png": "[encoded data removed]",
      "text/plain": [
       "<Figure size 1400x600 with 1 Axes>"
      ]
     },
     "metadata": {},
     "output_type": "display_data"
    }
   ],
   "source": [
    "plt.figure(figsize=(10, 6))\n",
    "sns.countplot(x='Customer_Segment', data=rfm_values, order=rfm_values['Customer_Segment'].value_counts().index)\n",
    "plt.title('Customer Segment Distribution')\n",
    "plt.show()\n",
    "\n",
    "plt.figure(figsize=(14, 6))\n",
    "sns.boxplot(x='Customer_Segment', y='Monetary', data=rfm_values)\n",
    "plt.title('Monetary Value Distribution by Customer Segment')\n",
    "plt.show()\n"
   ]
  },
  {
   "cell_type": "code",
   "execution_count": 44,
   "id": "338142ba",
   "metadata": {},
   "outputs": [
    {
     "data": {
      "image/png": "[encoded data removed]",
      "text/plain": [
       "<Figure size 1400x600 with 1 Axes>"
      ]
     },
     "metadata": {},
     "output_type": "display_data"
    }
   ],
   "source": [
    "plt.figure(figsize=(14, 6))\n",
    "sns.barplot(x='Customer_Segment', y='Recency', data=rfm_values)\n",
    "plt.title('Recency by Customer Segment')\n",
    "plt.show()"
   ]
  },
  {
   "cell_type": "code",
   "execution_count": 45,
   "id": "545da553",
   "metadata": {},
   "outputs": [
    {
     "data": {
      "image/png": "[encoded data removed]",
      "text/plain": [
       "<Figure size 1400x600 with 1 Axes>"
      ]
     },
     "metadata": {},
     "output_type": "display_data"
    }
   ],
   "source": [
    "plt.figure(figsize=(14, 6))\n",
    "sns.barplot(x='Customer_Segment', y='Frequency', data=rfm_agg)\n",
    "plt.title('Frequency by Customer Segment')\n",
    "plt.show()"
   ]
  },
  {
   "cell_type": "code",
   "execution_count": 46,
   "id": "078c7604",
   "metadata": {},
   "outputs": [
    {
     "data": {
      "image/png": "[encoded data removed]",
      "text/plain": [
       "<Figure size 1400x600 with 1 Axes>"
      ]
     },
     "metadata": {},
     "output_type": "display_data"
    }
   ],
   "source": [
    "plt.figure(figsize=(14, 6))\n",
    "sns.barplot(x='Customer_Segment', y='CLV', data=rfm_agg)\n",
    "plt.title('CLV Distribution by Customer Segment')\n",
    "plt.show()"
   ]
  },
  {
   "cell_type": "code",
   "execution_count": 47,
   "id": "1e212d6a",
   "metadata": {},
   "outputs": [
    {
     "data": {
      "image/png": "[encoded data removed]",
      "text/plain": [
       "<Figure size 1400x600 with 1 Axes>"
      ]
     },
     "metadata": {},
     "output_type": "display_data"
    }
   ],
   "source": [
    "plt.figure(figsize=(14, 6))\n",
    "sns.barplot(x='Customer_Segment', y='Avg_Revenue', data=rfm_agg)\n",
    "plt.title('Average Revenue Distribution by Customer Segment')\n",
    "plt.show()"
   ]
  },
  {
   "cell_type": "code",
   "execution_count": 48,
   "id": "34a7d5a6",
   "metadata": {},
   "outputs": [],
   "source": [
    "dfgr = df.groupby('Customer_Segment').head(5)\n",
    "dfgr2 = df2.groupby('Customer_Segment').head(5)\n",
    "dfgr3 = df3.groupby('Customer_Segment').head(5)"
   ]
  },
  {
   "cell_type": "code",
   "execution_count": 49,
   "id": "42553f06",
   "metadata": {
    "scrolled": false
   },
   "outputs": [
    {
     "data": {
      "image/png": "[encoded data removed]",
      "text/plain": [
       "<Figure size 2000x1000 with 1 Axes>"
      ]
     },
     "metadata": {},
     "output_type": "display_data"
    }
   ],
   "source": [
    "plt.figure(figsize=(20, 10))\n",
    "sns.barplot(x='Description',y='TotalAmount', data=dfgr)\n",
    "plt.title('Top Sold Products - Best Customers')\n",
    "plt.xlabel('Products')\n",
    "plt.ylabel('Sales Amount')\n",
    "plt.show()"
   ]
  },
  {
   "cell_type": "code",
   "execution_count": 50,
   "id": "a1182aef",
   "metadata": {},
   "outputs": [
    {
     "data": {
      "image/png": "[encoded data removed]",
      "text/plain": [
       "<Figure size 2000x1000 with 1 Axes>"
      ]
     },
     "metadata": {},
     "output_type": "display_data"
    }
   ],
   "source": [
    "plt.figure(figsize=(20, 10))\n",
    "sns.barplot(x='Description', y = \"TotalAmount\", data=dfgr2)\n",
    "plt.title('Top Sold Products - Loyalists')\n",
    "plt.xlabel('Products')\n",
    "plt.ylabel('Sales Amount')\n",
    "plt.show()"
   ]
  },
  {
   "cell_type": "code",
   "execution_count": 51,
   "id": "b1593228",
   "metadata": {},
   "outputs": [
    {
     "data": {
      "image/png": "[encoded data removed]",
      "text/plain": [
       "<Figure size 2000x1000 with 1 Axes>"
      ]
     },
     "metadata": {},
     "output_type": "display_data"
    }
   ],
   "source": [
    "plt.figure(figsize=(20, 10))\n",
    "sns.barplot(x='Description', y = \"TotalAmount\", data=dfgr3)\n",
    "plt.title('Top Sold Products - Potential Loyalists')\n",
    "plt.xlabel('Products')\n",
    "plt.ylabel('Sales Amount')\n",
    "plt.show()"
   ]
  }
 ],
 "metadata": {
  "kernelspec": {
   "display_name": "Python 3 (ipykernel)",
   "language": "python",
   "name": "python3"
  },
  "language_info": {
   "codemirror_mode": {
    "name": "ipython",
    "version": 3
   },
   "file_extension": ".py",
   "mimetype": "text/x-python",
   "name": "python",
   "nbconvert_exporter": "python",
   "pygments_lexer": "ipython3",
   "version": "3.11.7"
  }
 },
 "nbformat": 4,
 "nbformat_minor": 5
}
